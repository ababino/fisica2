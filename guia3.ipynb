{
 "cells": [
  {
   "cell_type": "code",
   "execution_count": 2,
   "metadata": {
    "collapsed": false
   },
   "outputs": [
    {
     "name": "stdout",
     "output_type": "stream",
     "text": [
      "Populating the interactive namespace from numpy and matplotlib\n"
     ]
    },
    {
     "name": "stderr",
     "output_type": "stream",
     "text": [
      ":0: FutureWarning: IPython widgets are experimental and may change in the future.\n"
     ]
    }
   ],
   "source": [
    "%pylab inline\n",
    "from IPython.html.widgets import interact"
   ]
  },
  {
   "cell_type": "markdown",
   "metadata": {},
   "source": [
    "# Ejercicio 4"
   ]
  },
  {
   "cell_type": "code",
   "execution_count": 4,
   "metadata": {
    "collapsed": false
   },
   "outputs": [],
   "source": [
    "def amp(n, L):\n",
    "    return 2*L*sin(n * pi / 2) / ((n**2) * pi**2)\n",
    "def fourier(x, n):\n",
    "    y = zeros_like(x)\n",
    "    for i in xrange(1, n+1):\n",
    "        y += armonico(x, i)\n",
    "    return y\n",
    "def armonico(x, n):\n",
    "    L = x[-1]\n",
    "    km = pi * n / L\n",
    "    y = amp(n, L) * sin(km* x)\n",
    "    return y"
   ]
  },
  {
   "cell_type": "code",
   "execution_count": null,
   "metadata": {
    "collapsed": false
   },
   "outputs": [],
   "source": [
    "L = 1\n",
    "x = linspace(0, L, 100)\n",
    "figure(1)\n",
    "title('Fundamental')\n",
    "plot(x, armonico(x, 1), linewidth=2);\n",
    "show()\n",
    "\n",
    "for n in range(3, 10, 2):\n",
    "    figure(n)\n",
    "    title(str(n) + ' armonicos')\n",
    "    plot(x, fourier(x, n - 2), linewidth=2, label='suma hasta ' + str(n-2));\n",
    "    plot(x, armonico(x, n), linewidth=2, label='armonico ' + str(n))\n",
    "    plot(x, fourier(x, n), linewidth=2, label='suma hasta ' + str(n))\n",
    "    legend()#\n",
    "    show()"
   ]
  },
  {
   "cell_type": "code",
   "execution_count": 8,
   "metadata": {
    "collapsed": false
   },
   "outputs": [
    {
     "data": {
      "image/png": "[encoded data removed]",
      "text/plain": [
       "<matplotlib.figure.Figure at 0x7feb7454d190>"
      ]
     },
     "metadata": {},
     "output_type": "display_data"
    }
   ],
   "source": [
    "@interact(armonicos=(1, 40, 2))\n",
    "def f(armonicos=1):\n",
    "    L = 1\n",
    "    x = linspace(0, L, 100)\n",
    "    ylim([0, 0.25])\n",
    "    plot(x, fourier(x, armonicos))"
   ]
  }
 ],
 "metadata": {
  "kernelspec": {
   "display_name": "Python 2",
   "language": "python",
   "name": "python2"
  },
  "language_info": {
   "codemirror_mode": {
    "name": "ipython",
    "version": 2
   },
   "file_extension": ".py",
   "mimetype": "text/x-python",
   "name": "python",
   "nbconvert_exporter": "python",
   "pygments_lexer": "ipython2",
   "version": "2.7.6"
  }
 },
 "nbformat": 4,
 "nbformat_minor": 0
}
